{
 "cells": [
  {
   "cell_type": "markdown",
   "source": [
    "Notebook for analyzing T-38 and weather balloon data simultaneously\n",
    "\n",
    "\n",
    "Import statements:"
   ],
   "metadata": {
    "collapsed": false,
    "pycharm": {
     "name": "#%% md\n"
    }
   }
  },
  {
   "cell_type": "code",
   "execution_count": 498,
   "outputs": [],
   "source": [
    "import pandas as pd\n",
    "import numpy as np\n",
    "import scipy\n",
    "import matplotlib\n",
    "import re\n",
    "from JMOSS import utilities\n",
    "import matplotlib.pyplot as plt\n",
    "from matplotlib.ticker import MultipleLocator as ML\n",
    "from matplotlib.ticker import ScalarFormatter as SF"
   ],
   "metadata": {
    "collapsed": false,
    "pycharm": {
     "name": "#%%\n"
    }
   }
  },
  {
   "cell_type": "markdown",
   "source": [
    "Import test point .csv files"
   ],
   "metadata": {
    "collapsed": false,
    "pycharm": {
     "name": "#%% md\n"
    }
   }
  },
  {
   "cell_type": "code",
   "execution_count": 499,
   "outputs": [],
   "source": [
    "\n",
    "class55 = pd.read_csv('../SampleData/CLASS55.csv')\n",
    "class65 = pd.read_csv('../SampleData/CLASS65.csv')\n",
    "class95 = pd.read_csv('../SampleData/CLASS95.csv')\n",
    "\n",
    "testPoints = [class55,class65,class95]\n"
   ],
   "metadata": {
    "collapsed": false,
    "pycharm": {
     "name": "#%%\n"
    }
   }
  },
  {
   "cell_type": "markdown",
   "source": [
    "Import weather balloon"
   ],
   "metadata": {
    "collapsed": false,
    "pycharm": {
     "name": "#%% md\n"
    }
   }
  },
  {
   "cell_type": "code",
   "execution_count": 500,
   "outputs": [],
   "source": [
    "wb_filepath = '../SampleData/WeatherBalloon.txt'\n",
    "\n",
    "pattern = re.compile(r\"\\d+\\s+\\d+\\s+\\d+.\\d+\\s+.\\d+\\s+-*\\d+.\\d+\\s+-*\\d+.\\d+\\s+\\d+.\\d+\\s+\\d+\\s+\\d+.\\d+\\s+\\d+.\\d+\\s+\\d+\\s+\\d+\\s+\\d+.\\d+\\s+\\d+\")\n",
    "\n",
    "labels = ['Hg','w_dir','w_mag','SHR','Ta','DPT','Pa','RH','AB_HUM','rho','I_R','V_S','VPS','PW']\n",
    "\n",
    "f = open(wb_filepath,'r')\n",
    "\n",
    "lines = f.readlines()\n",
    "\n",
    "wbdata = []\n",
    "\n",
    "for line in lines:\n",
    "    out = re.findall(pattern,line)\n",
    "    if len(out) > 0:\n",
    "        data = [float(a) for a in out[0].split()]\n",
    "        wbdata.append(data)\n",
    "\n",
    "wbdata = pd.DataFrame(wbdata,columns=labels)"
   ],
   "metadata": {
    "collapsed": false,
    "pycharm": {
     "name": "#%%\n"
    }
   }
  },
  {
   "cell_type": "markdown",
   "source": [
    "Clean weather balloon dataframe and functions"
   ],
   "metadata": {
    "collapsed": false,
    "pycharm": {
     "name": "#%% md\n"
    }
   }
  },
  {
   "cell_type": "code",
   "execution_count": 501,
   "outputs": [],
   "source": [
    "import math\n",
    "import scipy.stats as stats\n",
    "\n",
    "# make an empty DataFrame\n",
    "balloon_DB = pd.DataFrame()\n",
    "\n",
    "# Load geometric height in feet\n",
    "balloon_DB['height_ft'] = wbdata['Hg']\n",
    "\n",
    "# Change wind magnitude and direction to N and E components in the nav frame\n",
    "balloon_DB['wind_mag_kts'] = wbdata['w_mag']\n",
    "balloon_DB['wind_dir_rad'] = wbdata.apply(lambda x:\n",
    "                                   math.radians(x['w_dir']),axis=1)\n",
    "balloon_DB['wind_mag_NAV_N_kts'] = wbdata.apply(lambda x:\n",
    "                           x['w_mag']*(math.cos(math.radians(x['w_dir']))),axis=1)\n",
    "balloon_DB['wind_mag_NAV_E_kts'] = wbdata.apply(lambda x:\n",
    "                           x['w_mag']*(math.sin(math.radians(x['w_dir']))),axis=1)\n",
    "# Check that the transformation was done correctly\n",
    "balloon_DB['wind_mag_check'] = balloon_DB.apply(lambda x:\n",
    "                                            x['wind_mag_kts']**2 - x['wind_mag_NAV_N_kts']**2 - x['wind_mag_NAV_E_kts']**2,axis=1)\n",
    "\n",
    "# Load Pa and Ta in psi and K, respectively\n",
    "millibar_to_psi = 0.0145037738\n",
    "celsius_to_kelvin = 274.15\n",
    "balloon_DB['ambient_pres_psi'] = wbdata.apply(lambda x:\n",
    "                                x['Pa']*millibar_to_psi,axis=1)\n",
    "balloon_DB['ambient_temp_K'] = wbdata.apply(lambda x:\n",
    "                                x['Ta'] + celsius_to_kelvin,axis=1)\n",
    "\n"
   ],
   "metadata": {
    "collapsed": false,
    "pycharm": {
     "name": "#%%\n"
    }
   }
  },
  {
   "cell_type": "markdown",
   "source": [
    "Load balloon data into test point time series\n",
    "Calculate additional needed parameters"
   ],
   "metadata": {
    "collapsed": false,
    "pycharm": {
     "name": "#%% md\n"
    }
   }
  },
  {
   "cell_type": "code",
   "execution_count": null,
   "outputs": [],
   "source": [
    "fig, dpaxs = plt.subplots(figsize=(16, 6))\n",
    "fig2, dTaxs = plt.subplots(figsize=(16, 6))\n",
    "\n",
    "ival = 0\n",
    "\n",
    "for testPoint in testPoints:\n",
    "\n",
    "    # ambient pressure interpolated from balloon_DB\n",
    "    testPoint['ambient_pres_psi'] = np.interp(testPoint['height_ft'],\n",
    "                                              balloon_DB['height_ft'],\n",
    "                                              balloon_DB['ambient_pres_psi'])\n",
    "    # ambient temperature interpolated from balloon_DB\n",
    "    testPoint['ambient_temp_K'] = np.interp(testPoint['height_ft'],\n",
    "                                              balloon_DB['height_ft'],\n",
    "                                              balloon_DB['ambient_temp_K'])\n",
    "\n",
    "    # wind component N interpolated from balloon_DB\n",
    "    testPoint['wind_mag_NAV_N_kts'] = np.interp(testPoint['height_ft'],\n",
    "                                              balloon_DB['height_ft'],\n",
    "                                              balloon_DB['wind_mag_NAV_N_kts'])\n",
    "\n",
    "    # wind component E interpolated from balloon_DB\n",
    "    testPoint['wind_mag_NAV_E_kts'] = np.interp(testPoint['height_ft'],\n",
    "                                              balloon_DB['height_ft'],\n",
    "                                              balloon_DB['wind_mag_NAV_E_kts'])\n",
    "\n",
    "    # qcic/Ps from recorded data\n",
    "    testPoint['qcicPs'] = (testPoint['total_pres_psi'] - testPoint['static_pres_psi'])/testPoint['static_pres_psi']\n",
    "\n",
    "    # qc/Pa from balloon and recorded data\n",
    "    testPoint['qcPaBalloon'] = (testPoint['total_pres_psi'] - testPoint['ambient_pres_psi'])/testPoint['ambient_pres_psi']\n",
    "\n",
    "    # Mach_IC from recorded data (qcic/Ps)\n",
    "    testPoint['MachIC'] = utilities.mach_from_qc_pa(testPoint['qcicPs'].values)\n",
    "\n",
    "    # Delta P_p/Ps estimates from survey method\n",
    "    testPoint['DeltaPpPsBalloon'] = -(testPoint['qcicPs'] - testPoint['qcPaBalloon'])/(testPoint['qcPaBalloon']+1)\n",
    "\n",
    "    # Static temp from total and Mach (indicated)\n",
    "    testPoint['static_temp_K'] = testPoint['total_temp_K']/(1+0.2*testPoint['MachIC']**2)\n",
    "\n",
    "    # Survey \"DeltaT/T\n",
    "    testPoint['M2over5'] = (testPoint['MachIC']**2)/5\n",
    "    testPoint['TicTa1'] = testPoint['total_temp_K']/testPoint['ambient_temp_K'] - 1\n",
    "\n",
    "    # plot DeltaP_p/P_s results\n",
    "    testPoint.plot.scatter(x=\"MachIC\",y=\"DeltaPpPsBalloon\",\n",
    "                           ax=dpaxs,\n",
    "                           color=['C'+str(ival)],\n",
    "                           marker='.')\n",
    "    # axis configuration for above\n",
    "    dpaxs.set_xlabel('$M_{ic}$')\n",
    "    dpaxs.set_ylabel('$\\Delta P_p/P_s$')\n",
    "    dpaxs.xaxis.set_minor_locator(ML(0.05))\n",
    "    dpaxs.xaxis.set_minor_formatter(SF())\n",
    "    dpaxs.tick_params(axis='x',which='minor')\n",
    "    dpaxs.grid('on','both')\n",
    "    dpaxs.set_title('Survey Method Results')\n",
    "\n",
    "    # plot Kt results\n",
    "    testPoint.plot.scatter(x=\"M2over5\",y=\"TicTa1\",\n",
    "                           ax=dTaxs,\n",
    "                           color=['C'+str(ival)],\n",
    "                           marker='.')\n",
    "\n",
    "    # axis configuration for above\n",
    "    dTaxs.set_xlabel('$0.2*M_{ic}^2$')\n",
    "    dTaxs.set_ylabel('$T_{ic}/T_a - 1$')\n",
    "    dTaxs.xaxis.set_minor_locator(ML(0.05))\n",
    "    dTaxs.xaxis.set_minor_formatter(SF())\n",
    "    dTaxs.tick_params(axis='x',which='minor')\n",
    "    dTaxs.grid('on','both')\n",
    "    dTaxs.set_title('Survey Method Results')\n",
    "\n",
    "    # increment color wheel\n",
    "    ival += 1\n"
   ],
   "metadata": {
    "collapsed": false,
    "pycharm": {
     "name": "#%%\n"
    }
   }
  },
  {
   "cell_type": "markdown",
   "source": [
    "Load auxiliary helper functions\n"
   ],
   "metadata": {
    "collapsed": false,
    "pycharm": {
     "name": "#%% md\n"
    }
   }
  },
  {
   "cell_type": "code",
   "execution_count": 502,
   "outputs": [],
   "source": [],
   "metadata": {
    "collapsed": false,
    "pycharm": {
     "name": "#%%\n"
    }
   }
  },
  {
   "cell_type": "markdown",
   "source": [
    "Build Kalman filter equations"
   ],
   "metadata": {
    "collapsed": false,
    "pycharm": {
     "name": "#%% md\n"
    }
   }
  },
  {
   "cell_type": "code",
   "execution_count": 503,
   "outputs": [],
   "source": [
    "# use example below\n",
    "\n",
    "from pykalman import AdditiveUnscentedKalmanFilter\n",
    "\n",
    "N_states = 5\n",
    "# STATES\n",
    "# Wind N\n",
    "# Wind E\n",
    "# Wind D\n",
    "# DPp/Ps\n",
    "# Ta\n",
    "# ADD CONTROL PARAMETERS AND CONVERT TO LAMBDA FUNCTION AT EACH TIME STEP\n",
    "def additive_transition_function(state):\n",
    "    return #TBD\n",
    "\n",
    "# MEASUREMENTS\n",
    "# GPS Velocity Vector = Wind Velocity Vector + Pitot-Static Velocity Vector\n",
    "# Balloon Wind N = Wind N\n",
    "# Balloon Wind E = Wind E\n",
    "# Balloon Pa = Ps - DPp/Ps*Ps\n",
    "# Balloon Ta = Ta\n",
    "def additive_observation_function(state):\n",
    "    wind = state[0:2]\n",
    "    mach_ic = mach_from_qc_pa\n",
    "    tas_w = mach_pc * sqrt(oat / 288.1500) * 661.478827231622\n",
    "    tas_n = wind_to_nav.apply(column_stack([tas_w, 0 * tas_w, 0 * tas_w]))\n",
    "    gs_n_est = tas_n + wind\n",
    "\n",
    "    return #TBD\n",
    "\n",
    "transition_covariance = np.eye(N_states)\n",
    "random_state = np.random.RandomState(0)\n",
    "observation_covariance = np.eye(2) + random_state.randn(2, 2) * 0.1\n",
    "initial_state_mean = [0, 0]\n",
    "initial_state_covariance = [[1, 0.1], [ 0.1, 1]]\n",
    "\n",
    "# sample from model\n",
    "ukf = UnscentedKalmanFilter(\n",
    "    transition_function, observation_function,\n",
    "    transition_covariance, observation_covariance,\n",
    "    initial_state_mean, initial_state_covariance,\n",
    "    random_state=random_state\n",
    ")\n",
    "akf = AdditiveUnscentedKalmanFilter(\n",
    "    additive_transition_function, additive_observation_function,\n",
    "    transition_covariance, observation_covariance,\n",
    "    initial_state_mean, initial_state_covariance\n",
    ")\n",
    "states, observations = ukf.sample(50, initial_state_mean)\n",
    "\n",
    "# estimate state with filtering\n",
    "ukf_state_estimates = ukf.filter(observations)[0]\n",
    "akf_state_estimates = akf.filter(observations)[0]\n",
    "\n",
    "# draw estimates\n",
    "pl.figure()\n",
    "lines_true = pl.plot(states, color='b')\n",
    "lines_ukf = pl.plot(ukf_state_estimates, color='r', ls='-')\n",
    "lines_akf = pl.plot(akf_state_estimates, color='g', ls='-.')\n",
    "pl.legend((lines_true[0], lines_ukf[0], lines_akf[0]),\n",
    "          ('true', 'UKF', 'AddUKF'),\n",
    "          loc='upper left'\n",
    ")\n",
    "pl.show()\n"
   ],
   "metadata": {
    "collapsed": false,
    "pycharm": {
     "name": "#%%\n"
    }
   }
  },
  {
   "cell_type": "code",
   "execution_count": null,
   "outputs": [],
   "source": [
    "# use this example and run algo online\n",
    "\n",
    "import numpy as np\n",
    "import pylab as pl\n",
    "\n",
    "from pykalman.datasets import load_robot\n",
    "from pykalman import KalmanFilter\n",
    "\n",
    "# Initialize the Kalman Filter\n",
    "data = load_robot()\n",
    "kf = KalmanFilter(\n",
    "    data.transition_matrix,\n",
    "    data.observation_matrix,\n",
    "    data.initial_transition_covariance,\n",
    "    data.initial_observation_covariance,\n",
    "    data.transition_offsets,\n",
    "    data.observation_offset,\n",
    "    data.initial_state_mean,\n",
    "    data.initial_state_covariance,\n",
    "    random_state=0\n",
    ")\n",
    "\n",
    "# Estimate mean and covariance of hidden state distribution iteratively.  This\n",
    "# is equivalent to\n",
    "#\n",
    "#   >>> (filter_state_means, filtered_state_covariance) = kf.filter(data)\n",
    "n_timesteps = data.observations.shape[0]\n",
    "n_dim_state = data.transition_matrix.shape[0]\n",
    "filtered_state_means = np.zeros((n_timesteps, n_dim_state))\n",
    "filtered_state_covariances = np.zeros((n_timesteps, n_dim_state, n_dim_state))\n",
    "for t in range(n_timesteps - 1):\n",
    "    if t == 0:\n",
    "        filtered_state_means[t] = data.initial_state_mean\n",
    "        filtered_state_covariances[t] = data.initial_state_covariance\n",
    "    filtered_state_means[t + 1], filtered_state_covariances[t + 1] = (\n",
    "        kf.filter_update(\n",
    "            filtered_state_means[t],\n",
    "            filtered_state_covariances[t],\n",
    "            data.observations[t + 1],\n",
    "            transition_offset=data.transition_offsets[t],\n",
    "        )\n",
    "    )\n",
    "\n",
    "# draw estimates\n",
    "pl.figure()\n",
    "lines_true = pl.plot(data.states, color='b')\n",
    "lines_filt = pl.plot(filtered_state_means, color='r')\n",
    "pl.legend((lines_true[0], lines_filt[0]), ('true', 'filtered'))\n",
    "pl.show()"
   ],
   "metadata": {
    "collapsed": false,
    "pycharm": {
     "name": "#%%\n"
    }
   }
  }
 ],
 "metadata": {
  "kernelspec": {
   "display_name": "Python 3",
   "language": "python",
   "name": "python3"
  },
  "language_info": {
   "codemirror_mode": {
    "name": "ipython",
    "version": 2
   },
   "file_extension": ".py",
   "mimetype": "text/x-python",
   "name": "python",
   "nbconvert_exporter": "python",
   "pygments_lexer": "ipython2",
   "version": "2.7.6"
  }
 },
 "nbformat": 4,
 "nbformat_minor": 0
}
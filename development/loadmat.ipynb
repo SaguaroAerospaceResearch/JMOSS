{
 "cells": [
  {
   "cell_type": "markdown",
   "source": [
    "Convert .mat to python-readable"
   ],
   "metadata": {
    "collapsed": false,
    "pycharm": {
     "name": "#%% md\n"
    }
   }
  },
  {
   "cell_type": "code",
   "execution_count": null,
   "outputs": [],
   "source": [
    "import pandas as pd\n",
    "from scipy.io import loadmat\n",
    "from datetime import datetime\n",
    "from operator import add\n",
    "from itertools import starmap\n",
    "import glob\n",
    "\n",
    "filenames = glob.glob(r\"./*.mat\")\n",
    "dataTables = []\n",
    "\n",
    "for filename in filenames:\n",
    "    #filename = \"SS2_Boom_Impact_Pressure_PSI_50Hz.mat\"\n",
    "    paramName = filename[6:-4]\n",
    "\n",
    "    MatlabData = loadmat(filename)\n",
    "\n",
    "    keys = list(MatlabData.keys())\n",
    "\n",
    "    MatlabDataArrays = MatlabData[keys[-1]][0][0]\n",
    "\n",
    "    matData = MatlabDataArrays[-1]\n",
    "    matTime = MatlabDataArrays[-2]\n",
    "    yearString = MatlabDataArrays[-11][0].split(\"-\")[-1]\n",
    "    endTimeString = yearString +\":\" + MatlabDataArrays[-15][0]+\"000\"\n",
    "    startTimeString = yearString +\":\" + MatlabDataArrays[-16][0]+\"000\"\n",
    "\n",
    "    dateFormat = '%Y:%j:%H:%M:%S.%f'\n",
    "\n",
    "    startTime = datetime.strptime(startTimeString,dateFormat)\n",
    "    endTime = datetime.strptime(endTimeString,dateFormat)\n",
    "\n",
    "    duration = endTime - startTime\n",
    "    nSamples = len(matData)\n",
    "    dt = duration/nSamples\n",
    "    dtArray = [dt*n for n in range(0,nSamples)]\n",
    "    startTimeArray = [startTime for n in range(0,nSamples)]\n",
    "\n",
    "    timeArray = list(starmap(add,zip(startTimeArray,dtArray)))\n",
    "\n",
    "    dataLabels = ['time',paramName]\n",
    "\n",
    "    matData = [data[0] for data in matData]\n",
    "\n",
    "    dataTable = pd.DataFrame(columns=dataLabels)\n",
    "    dataTable[dataLabels[0]] = timeArray\n",
    "    dataTable[dataLabels[1]] = matData\n",
    "    dataTable.set_index('time')\n",
    "    dataTables.append(dataTable)\n",
    "\n",
    "df = dataTables[0]\n",
    "\n",
    "for dataTable in dataTables:\n",
    "    df = df.merge(dataTable,on='time')\n",
    "\n",
    "df.to_csv('./output_data.csv')"
   ],
   "metadata": {
    "collapsed": false,
    "pycharm": {
     "name": "#%%\n"
    }
   }
  }
 ],
 "metadata": {
  "kernelspec": {
   "display_name": "Python 3",
   "language": "python",
   "name": "python3"
  },
  "language_info": {
   "codemirror_mode": {
    "name": "ipython",
    "version": 2
   },
   "file_extension": ".py",
   "mimetype": "text/x-python",
   "name": "python",
   "nbconvert_exporter": "python",
   "pygments_lexer": "ipython2",
   "version": "2.7.6"
  }
 },
 "nbformat": 4,
 "nbformat_minor": 0
}